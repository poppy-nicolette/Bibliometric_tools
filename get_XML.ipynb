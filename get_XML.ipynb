{
 "cells": [
  {
   "cell_type": "markdown",
   "id": "22b12ae5",
   "metadata": {},
   "source": [
    "# get XML for a DOI\n",
    "This script retrieves individual XML files from Crossref for a given list of DOIs\n",
    "\n",
    "\n",
    "## todo:\n",
    "[ ] enable csv file upload or .txt file from Crossref\n",
    "[ ] make file name same as doi - replace special char with spaces\n",
    "[ ] put into streamlit interface\n",
    "    [ ] paste in list of dois?"
   ]
  },
  {
   "cell_type": "code",
   "execution_count": 1,
   "id": "c3548769",
   "metadata": {},
   "outputs": [],
   "source": [
    "import requests\n",
    "import xml.etree.ElementTree as ET\n",
    "import os\n",
    "import csv\n",
    "from tqdm.auto import tqdm"
   ]
  },
  {
   "cell_type": "code",
   "execution_count": 2,
   "id": "46620247",
   "metadata": {},
   "outputs": [
    {
     "data": {
      "text/plain": [
       "'/Users/nicolapoppy/OneDrive - Dalhousie University/CrossRef tech support/Python'"
      ]
     },
     "execution_count": 2,
     "metadata": {},
     "output_type": "execute_result"
    }
   ],
   "source": [
    "cwd = os.getcwd()\n",
    "cwd"
   ]
  },
  {
   "cell_type": "code",
   "execution_count": 3,
   "id": "0edbcf6d",
   "metadata": {},
   "outputs": [],
   "source": [
    "#import a txt file with dois\n",
    "file = open(\"dois.csv\", \"r\", encoding='utf-8-sig')\n",
    "doi = list(csv.reader(file, delimiter=\",\"))\n",
    "file.close()"
   ]
  },
  {
   "cell_type": "code",
   "execution_count": 4,
   "id": "408640b6",
   "metadata": {},
   "outputs": [
    {
     "data": {
      "text/plain": [
       "4"
      ]
     },
     "execution_count": 4,
     "metadata": {},
     "output_type": "execute_result"
    }
   ],
   "source": [
    "len(doi)"
   ]
  },
  {
   "cell_type": "code",
   "execution_count": 5,
   "id": "917f66dc",
   "metadata": {},
   "outputs": [
    {
     "name": "stdout",
     "output_type": "stream",
     "text": [
      "10.3145/epi.2017.ene.10\n"
     ]
    }
   ],
   "source": [
    "#test to make sure doi looks good\n",
    "print((str(doi[0][0])))"
   ]
  },
  {
   "cell_type": "markdown",
   "id": "f4f3814a",
   "metadata": {},
   "source": [
    "[ ] need to add progress bar"
   ]
  },
  {
   "cell_type": "code",
   "execution_count": 6,
   "id": "c6abd433",
   "metadata": {},
   "outputs": [],
   "source": [
    "api = \"https://doi.crossref.org/search/doi?pid=support@crossref.org&format=unixsd&doi=\"\n",
    "def getXML(doi):\n",
    "    for i in tqdm(range(len(doi))):\n",
    "        r = requests.get(api + str(doi[i][0]))\n",
    "        print(api + str(doi[i][0]))\n",
    "        root = ET.fromstring(r.text)\n",
    "\n",
    "        tree = ET.ElementTree(root)\n",
    "        name = i\n",
    "        tree.write(str(i)+\".xml\")\n",
    "    print(\"done, my lady\")\n",
    "\n"
   ]
  },
  {
   "cell_type": "code",
   "execution_count": 7,
   "id": "f1d12e05",
   "metadata": {},
   "outputs": [
    {
     "data": {
      "application/vnd.jupyter.widget-view+json": {
       "model_id": "d5ff18eaba3e47a5857db6bd4e8e69ef",
       "version_major": 2,
       "version_minor": 0
      },
      "text/plain": [
       "  0%|          | 0/4 [00:00<?, ?it/s]"
      ]
     },
     "metadata": {},
     "output_type": "display_data"
    },
    {
     "name": "stdout",
     "output_type": "stream",
     "text": [
      "https://doi.crossref.org/search/doi?pid=support@crossref.org&format=unixsd&doi=10.3145/epi.2017.ene.10\n",
      "https://doi.crossref.org/search/doi?pid=support@crossref.org&format=unixsd&doi=10.3145/epi.2017.ene.04\n",
      "https://doi.crossref.org/search/doi?pid=support@crossref.org&format=unixsd&doi=10.3145/epi.2017.ene.07\n",
      "https://doi.crossref.org/search/doi?pid=support@crossref.org&format=unixsd&doi=10.1076/epri.12.5.400.17561\n",
      "done, my lady\n"
     ]
    }
   ],
   "source": [
    "getXML(doi)"
   ]
  },
  {
   "cell_type": "markdown",
   "id": "27da4d07",
   "metadata": {},
   "source": [
    "## compare results\n",
    "so how does the xml compare with xml used as a submission? Is it possible to resubmit this same xml as a deposit to solve the publisher's problem?\n",
    "- their problem is they have lost all their old data"
   ]
  },
  {
   "cell_type": "code",
   "execution_count": null,
   "id": "cdc3ade4",
   "metadata": {},
   "outputs": [],
   "source": []
  }
 ],
 "metadata": {
  "kernelspec": {
   "display_name": "Python 3 (ipykernel)",
   "language": "python",
   "name": "python3"
  },
  "language_info": {
   "codemirror_mode": {
    "name": "ipython",
    "version": 3
   },
   "file_extension": ".py",
   "mimetype": "text/x-python",
   "name": "python",
   "nbconvert_exporter": "python",
   "pygments_lexer": "ipython3",
   "version": "3.8.12"
  }
 },
 "nbformat": 4,
 "nbformat_minor": 5
}
